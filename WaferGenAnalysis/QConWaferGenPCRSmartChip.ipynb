{
 "cells": [
  {
   "cell_type": "markdown",
   "metadata": {
    "editable": true
   },
   "source": [
    "# QC on WaferGen PCR SmartChip\n",
    "\n",
    "\n",
    "## Get Data"
   ]
  },
  {
   "cell_type": "code",
   "execution_count": 1,
   "metadata": {
    "ExecuteTime": {
     "end_time": "2017-07-12T16:27:17.801954Z",
     "start_time": "2017-07-12T16:27:17.064463Z"
    },
    "collapsed": false,
    "editable": true
   },
   "outputs": [
    {
     "name": "stderr",
     "output_type": "stream",
     "text": [
      "2017-07-12 17:27:17,677:INFO:Parsing data from file into python \n",
      "2017-07-12 17:27:17,781:DEBUG:DataFrame now looks like this:\n",
      "                   Assay     Sample        Ct\n",
      "Chip1NCL Adult 0    ABL1  Tgfb_48_4  23.98787\n",
      "               1    ACTB  Tgfb_48_4  21.11110\n",
      "               2   CDC42  Tgfb_48_4  24.20522\n",
      "               3  CDKN2A  Tgfb_48_4  28.10812\n",
      "               4   NFKB2  Tgfb_48_4  28.18900\n"
     ]
    }
   ],
   "source": [
    "import pandas, os, glob\n",
    "import logging\n",
    "import matplotlib.pyplot as plt\n",
    "import seaborn \n",
    "%matplotlib inline\n",
    "FORMAT = \"%(asctime)s:%(levelname)s:%(message)s\"\n",
    "logging.basicConfig(format=FORMAT)\n",
    "LOG= logging.getLogger()\n",
    "LOG.setLevel(logging.DEBUG)\n",
    "\n",
    "class FilePaths():\n",
    "    def __init__(self):\n",
    "        self.dire =  r'/home/b3053674/Documents/WaferGen/2D_TGFb'\n",
    "        self.ncl = os.path.join(self.dire, 'GSS2242_NCGeneSet')\n",
    "        self.ecm = os.path.join(self.dire, 'GSS2266_ECMGeneSet')\n",
    "        self.ncl_raw_data_files = sorted(glob.glob(os.path.join(self.ncl, '*WellData*')  )  )\n",
    "        self.ecm_raw_data_files = sorted(glob.glob(os.path.join(self.ecm, '*WellData*')  )  )\n",
    "        self.QC = os.path.join(self.dire, 'QCResults')\n",
    "        \n",
    "        self._make_qc()\n",
    "        \n",
    "    def _make_qc(self):\n",
    "        \"\"\"\n",
    "        \n",
    "        \"\"\"\n",
    "        if os.path.isdir(self.QC)!=True:\n",
    "            os.makedirs(self.QC)\n",
    "\n",
    "\n",
    "F=FilePaths()\n",
    "\n",
    "def parse_data(data1, data2, labels1, labels2):\n",
    "    \"\"\"\n",
    "    Parse smart-chip PCR data\n",
    "    \n",
    "    args:\n",
    "        data1: data from chip 1 (NCL or ECM)\n",
    "    \n",
    "        data2 Data from chip2 (NCL or ECM)\n",
    "        \n",
    "        labels1: labels for chips (NCL or ECM)\n",
    "        \n",
    "        labels2: Condition labels (Neonatal, IR and Adult)\n",
    "    \n",
    "    \"\"\"\n",
    "\n",
    "    ## construct python dict for data\n",
    "    dct = {}\n",
    "    for i in range(len(labels1)):\n",
    "        dct[labels1[i]] = {}\n",
    "\n",
    "    for i in range(len(labels1)):\n",
    "        for j in range(len(labels2)):\n",
    "            if labels1[i]=='Chip1NCL':\n",
    "                dct[labels1[i]][labels2[j]] = pandas.read_csv(data1[j], sep='\\t')\n",
    "            elif labels1[i]=='Chip2ECM':\n",
    "                dct[labels1[i]][labels2[j]] = pandas.read_csv(data2[j], sep='\\t')\n",
    "\n",
    "    ## remove unwanted columns\n",
    "    columns = ['Assay', 'Sample','Ct']\n",
    "    dct2 = {}\n",
    "    for chip in dct:\n",
    "        dct2[chip] = {}\n",
    "        for treatment in dct[chip]:\n",
    "            dct2[chip][treatment] = dct[chip][treatment][columns]\n",
    "            \n",
    "    ## parse data into one pandas dataframe\n",
    "\n",
    "    df_dct = {}\n",
    "    for chip in dct2:\n",
    "        df_dct[chip] = pandas.concat(dct2[chip])\n",
    "        \n",
    "    return pandas.concat(df_dct)\n",
    "\n",
    "    \n",
    "ncl_raw_data = sorted(glob.glob(os.path.join(F.ncl, '*WellData*')  )  )\n",
    "ecm_raw_data = sorted(glob.glob(os.path.join(F.ecm, '*WellData*')  )  )\n",
    "\n",
    "labels1 = ['Chip1NCL', 'Chip2ECM']\n",
    "labels2 = ['Neonatal', 'IR', 'Adult']\n",
    "    \n",
    "    \n",
    "LOG.info('Parsing data from file into python ')\n",
    "df = parse_data(F.ncl_raw_data_files, F.ecm_raw_data_files, labels1, labels2)\n",
    "\n",
    "def format_data(df):\n",
    "    \"\"\"\n",
    "    Make data look pretty\n",
    "    \"\"\"\n",
    "    LOG.debug('DataFrame now looks like this:\\n{}'.format(df.head()) )\n",
    "    df=df.reset_index()\n",
    "    df=df.drop('level_2', axis=1)\n",
    "    df.columns = ['Chip', 'CellType', 'Gene', 'Sample', 'Ct']\n",
    "    # df4=df3.set_index(['Chip','CellType','Gene','Sample'])\n",
    "    df = df.dropna()\n",
    "    return df\n",
    "\n",
    "    \n",
    "df = format_data(df)"
   ]
  },
  {
   "cell_type": "markdown",
   "metadata": {
    "ExecuteTime": {
     "end_time": "2017-07-12T13:09:32.897814Z",
     "start_time": "2017-07-12T13:09:32.894107Z"
    }
   },
   "source": [
    "\n",
    "## Plot some graphs that serve as QC"
   ]
  },
  {
   "cell_type": "code",
   "execution_count": null,
   "metadata": {
    "ExecuteTime": {
     "end_time": "2017-07-12T13:44:01.450650Z",
     "start_time": "2017-07-12T13:43:59.353330Z"
    },
    "collapsed": false,
    "editable": true
   },
   "outputs": [],
   "source": [
    "seaborn.set_context(context='poster', font_scale=3)\n",
    "\n",
    "SAVE = True\n",
    "\n",
    "PLOT_CYCLE_THRESHOLD_DISTRIBUTIONS = False\n",
    "PLOT_DENSITY = True\n",
    "\n",
    "\n",
    "\n",
    "\n",
    "if PLOT_CYCLE_THRESHOLD_DISTRIBUTIONS:\n",
    "    \n",
    "# seaborn.boxplot(data=df3, x='Chip', y='Ct', hue='Chip')\n",
    "    plt.figure()\n",
    "    seaborn.boxplot(data=df, x='Chip', y='Ct', hue='CellType')\n",
    "    plt.title('Cycle Threshold Distributions')\n",
    "    plt.legend(loc=(1,0.5))\n",
    "    if SAVE:\n",
    "        plt.savefig(os.path.join(F.QC, 'RawCtDistributionsPerChipPerCellType.jpeg'), bbox_inches='tight', dpi=300)\n",
    "        \n",
    "if PLOT_DENSITY:\n",
    "    plt.figure()\n",
    "    for label, d in df.groupby(by='Chip'):\n",
    "        seaborn.distplot(d['Ct'], label=label)\n",
    "        plt.legend(loc=(1,0.5))\n",
    "        plt.title('Comparison of Ct Distributions Accross \\nTwo PCR Chips')\n",
    "        plt.ylabel('Normalized Frequency')\n",
    "        if SAVE:\n",
    "            plt.savefig(os.path.join(F.QC, 'DensityPlotCtDistributions.jpeg'), bbox_inches='tight', dpi=300)\n"
   ]
  },
  {
   "cell_type": "markdown",
   "metadata": {},
   "source": [
    "# PCA"
   ]
  },
  {
   "cell_type": "code",
   "execution_count": null,
   "metadata": {
    "collapsed": true
   },
   "outputs": [],
   "source": []
  },
  {
   "cell_type": "code",
   "execution_count": null,
   "metadata": {
    "collapsed": false
   },
   "outputs": [],
   "source": []
  },
  {
   "cell_type": "code",
   "execution_count": null,
   "metadata": {
    "ExecuteTime": {
     "end_time": "2017-07-12T16:26:42.901702Z",
     "start_time": "2017-07-12T16:26:42.749759Z"
    },
    "collapsed": false,
    "editable": true,
    "scrolled": true
   },
   "outputs": [],
   "source": [
    "from sklearn.decomposition import PCA\n",
    "from sklearn import preprocessing\n",
    "\n",
    "\n",
    "PLOT_PCA = False\n",
    "PLOT_EXPLAINED_VARIANC_RATIO = False\n",
    "SAVE=False\n",
    "\n",
    "df_indexed = df.set_index(['Chip', 'CellType', 'Gene', 'Sample'])\n",
    "\n",
    "\n",
    "df_indexed=df_indexed.unstack()\n",
    "\n",
    "df_indexed.columns = df_indexed.columns.droplevel(0)\n",
    "\n",
    "##imputation with median prior to feeding into PCA\n",
    "imp =preprocessing.Imputer(strategy='median', axis=1)\n",
    "imp.fit(df_indexed)\n",
    "df_imputed = (imp.transform(df_indexed))\n",
    "df_imputed = pandas.DataFrame(df_imputed, columns=df_indexed.columns, index =df_indexed.index ) \n",
    "df_imputed = df_imputed[sorted(df_imputed.keys())]\n",
    "\n",
    "\n",
    "print(df_indexed)\n",
    "\n",
    "# print(df_imputed.head())\n",
    "\n",
    "\n",
    "if PLOT_EXPLAINED_VARIANC_RATIO :\n",
    "    pca = PCA(n_components=10)\n",
    "    pca = pca.fit(df_imputed)\n",
    "    plt.figure()\n",
    "    plt.title('Explained Variance Ratio for First \\n 10 Principle Components')\n",
    "    seaborn.pointplot(x=range(len(pca.explained_variance_ratio_)), y = pca.explained_variance_ratio_)\n",
    "    plt.ylabel('Explained Variance Ratio')\n",
    "    plt.xlabel('Principle Component')\n",
    "    if SAVE:\n",
    "        plt.savefig(os.path.join(F.QC, 'ExplainedVarianceRatioPlot.jpeg'))\n",
    "        \n",
    "if PLOT_PCA:\n",
    "    pca = PCA(n_components=2)\n",
    "    pca = pca.fit(df_imputed)\n",
    "    print(pandas.DataFrame(pca.transform(df_imputed), index=df_imputed.index) )\n",
    "    \n",
    "    \n",
    "    # pca.fit(df_indexed)/\n",
    "\n"
   ]
  },
  {
   "cell_type": "code",
   "execution_count": null,
   "metadata": {
    "collapsed": false,
    "editable": true
   },
   "outputs": [],
   "source": []
  },
  {
   "cell_type": "code",
   "execution_count": null,
   "metadata": {
    "ExecuteTime": {
     "end_time": "2017-07-12T16:10:46.595113Z",
     "start_time": "2017-07-12T16:10:46.226960Z"
    },
    "collapsed": false,
    "editable": true
   },
   "outputs": [],
   "source": [
    "##PCA Python example\n",
    "\n",
    "print(__doc__)\n",
    "\n",
    "import matplotlib.pyplot as plt\n",
    "\n",
    "from sklearn import datasets\n",
    "from sklearn.decomposition import PCA\n",
    "from sklearn.discriminant_analysis import LinearDiscriminantAnalysis\n",
    "\n",
    "iris = datasets.load_iris()\n",
    "\n",
    "print (iris)\n",
    "\n",
    "X = iris.data\n",
    "y = iris.target\n",
    "target_names = iris.target_names\n",
    "\n",
    "pca = PCA(n_components=2)\n",
    "X_r = pca.fit(X).transform(X)\n",
    "\n",
    "print (X_r)\n",
    "\n",
    "lda = LinearDiscriminantAnalysis(n_components=2)\n",
    "X_r2 = lda.fit(X, y).transform(X)\n",
    "\n",
    "# Percentage of variance explained for each components\n",
    "print('explained variance ratio (first two components): %s'\n",
    "      % str(pca.explained_variance_ratio_))\n",
    "\n",
    "plt.figure()\n",
    "colors = ['navy', 'turquoise', 'darkorange']\n",
    "lw = 2\n",
    "\n",
    "for color, i, target_name in zip(colors, [0, 1, 2], target_names):\n",
    "    plt.scatter(X_r[y == i, 0], X_r[y == i, 1], color=color, alpha=.8, lw=lw,\n",
    "                label=target_name)\n",
    "# plt.legend(loc='best', shadow=False, scatterpoints=1)\n",
    "# plt.title('PCA of IRIS dataset')\n",
    "\n",
    "# plt.figure()\n",
    "# for color, i, target_name in zip(colors, [0, 1, 2], target_names):\n",
    "#     plt.scatter(X_r2[y == i, 0], X_r2[y == i, 1], alpha=.8, color=color,\n",
    "#                 label=target_name)\n",
    "# plt.legend(loc='best', shadow=False, scatterpoints=1)\n",
    "# plt.title('LDA of IRIS dataset')\n",
    "\n",
    "# plt.show()\n",
    "\n"
   ]
  },
  {
   "cell_type": "code",
   "execution_count": null,
   "metadata": {
    "collapsed": false,
    "editable": true
   },
   "outputs": [],
   "source": []
  },
  {
   "cell_type": "code",
   "execution_count": null,
   "metadata": {
    "collapsed": false,
    "editable": true
   },
   "outputs": [],
   "source": []
  },
  {
   "cell_type": "code",
   "execution_count": null,
   "metadata": {
    "collapsed": false,
    "editable": true
   },
   "outputs": [],
   "source": []
  },
  {
   "cell_type": "code",
   "execution_count": null,
   "metadata": {
    "collapsed": false,
    "editable": true
   },
   "outputs": [],
   "source": []
  },
  {
   "cell_type": "code",
   "execution_count": null,
   "metadata": {
    "collapsed": false,
    "editable": true
   },
   "outputs": [],
   "source": []
  },
  {
   "cell_type": "code",
   "execution_count": null,
   "metadata": {
    "collapsed": false,
    "editable": true
   },
   "outputs": [],
   "source": []
  },
  {
   "cell_type": "code",
   "execution_count": null,
   "metadata": {
    "collapsed": false,
    "editable": true
   },
   "outputs": [],
   "source": []
  }
 ],
 "metadata": {
  "hide_input": false,
  "kernelspec": {
   "display_name": "Python [conda root]",
   "language": "python",
   "name": "conda-root-py"
  },
  "language_info": {
   "codemirror_mode": {
    "name": "ipython",
    "version": 2
   },
   "file_extension": ".py",
   "mimetype": "text/x-python",
   "name": "python",
   "nbconvert_exporter": "python",
   "pygments_lexer": "ipython2",
   "version": "2.7.13"
  },
  "toc": {
   "colors": {
    "hover_highlight": "#DAA520",
    "navigate_num": "#000000",
    "navigate_text": "#333333",
    "running_highlight": "#FF0000",
    "selected_highlight": "#FFD700",
    "sidebar_border": "#EEEEEE",
    "wrapper_background": "#FFFFFF"
   },
   "moveMenuLeft": true,
   "nav_menu": {
    "height": "30px",
    "width": "252px"
   },
   "navigate_menu": true,
   "number_sections": true,
   "sideBar": true,
   "threshold": 4,
   "toc_cell": false,
   "toc_section_display": "block",
   "toc_window_display": false,
   "widenNotebook": false
  },
  "varInspector": {
   "cols": {
    "lenName": 16,
    "lenType": 16,
    "lenVar": 40
   },
   "kernels_config": {
    "python": {
     "delete_cmd_postfix": "",
     "delete_cmd_prefix": "del ",
     "library": "var_list.py",
     "varRefreshCmd": "print(var_dic_list())"
    },
    "r": {
     "delete_cmd_postfix": ") ",
     "delete_cmd_prefix": "rm(",
     "library": "var_list.r",
     "varRefreshCmd": "cat(var_dic_list()) "
    }
   },
   "types_to_exclude": [
    "module",
    "function",
    "builtin_function_or_method",
    "instance",
    "_Feature"
   ],
   "window_display": false
  }
 },
 "nbformat": 4,
 "nbformat_minor": 2
}
