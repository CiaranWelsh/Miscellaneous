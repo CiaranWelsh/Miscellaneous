{
 "cells": [
  {
   "cell_type": "markdown",
   "metadata": {
    "ExecuteTime": {
     "end_time": "2017-07-13T21:35:14.545000Z",
     "start_time": "2017-07-13T21:35:12.578Z"
    },
    "deletable": true,
    "editable": true
   },
   "source": [
    "# Modelling Smads with PyCoTools"
   ]
  },
  {
   "cell_type": "code",
   "execution_count": 1,
   "metadata": {
    "ExecuteTime": {
     "end_time": "2017-07-14T13:47:09.127221Z",
     "start_time": "2017-07-14T13:47:08.517409Z"
    },
    "collapsed": false,
    "deletable": true,
    "editable": true
   },
   "outputs": [
    {
     "name": "stderr",
     "output_type": "stream",
     "text": [
      "/home/b3053674/anaconda2/envs/py36/lib/python3.6/site-packages/IPython/html.py:14: ShimWarning: The `IPython.html` package has been deprecated since IPython 4.0. You should import from `notebook` instead. `IPython.html.widgets` has moved to `ipywidgets`.\n",
      "  \"`IPython.html.widgets` has moved to `ipywidgets`.\", ShimWarning)\n"
     ]
    }
   ],
   "source": [
    "import pandas\n",
    "import seaborn\n",
    "import matplotlib.pyplot as plt\n",
    "%matplotlib inline"
   ]
  },
  {
   "cell_type": "markdown",
   "metadata": {
    "ExecuteTime": {
     "end_time": "2017-07-14T10:24:02.006357Z",
     "start_time": "2017-07-14T10:24:00.980952Z"
    },
    "collapsed": true,
    "deletable": true,
    "editable": true
   },
   "source": [
    "# Plot MM with rate constants"
   ]
  },
  {
   "cell_type": "code",
   "execution_count": 15,
   "metadata": {
    "ExecuteTime": {
     "end_time": "2017-07-14T12:31:30.902434Z",
     "start_time": "2017-07-14T12:31:30.689643Z"
    },
    "collapsed": false,
    "deletable": true,
    "editable": true
   },
   "outputs": [
    {
     "data": {
      "image/png": "iVBORw0KGgoAAAANSUhEUgAAAYAAAAEVCAYAAADpbDJPAAAABHNCSVQICAgIfAhkiAAAAAlwSFlz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\n/wEqiC3yAYSLIAAAAABJRU5ErkJggg==\n",
      "text/plain": [
       "<matplotlib.figure.Figure at 0x7ff1389be4a8>"
      ]
     },
     "metadata": {},
     "output_type": "display_data"
    }
   ],
   "source": [
    "\n",
    "\n",
    "\n",
    "def michaelis_menten_with_kcat(kcat, km, M):\n",
    "    \"\"\"\n",
    "    \n",
    "    \"\"\"\n",
    "    \n",
    "    s_range = range(20)\n",
    "    \n",
    "    velocity = [kcat*M*i/(km+i) for i in s_range]\n",
    "    \n",
    "    plt.figure()\n",
    "    plt.plot(s_range, velocity)\n",
    "    plt.title('Michaelis Menten Kinetics')\n",
    "    plt.xlabel('[S]')\n",
    "    plt.ylabel('Velocity')\n",
    "    \n",
    "    \n",
    "def michaelis_menten(Vmax, km):\n",
    "    \"\"\"\n",
    "    \n",
    "    \"\"\"\n",
    "    \n",
    "    s_range = range(20)\n",
    "    \n",
    "    velocity = [Vmax*i/(km+i) for i in s_range]\n",
    "    \n",
    "    plt.figure()\n",
    "    plt.plot(s_range, velocity)\n",
    "    plt.title('Michaelis Menten Kinetics')\n",
    "    plt.xlabel('[S]')\n",
    "    plt.ylabel('Velocity')\n",
    "    \n",
    "    \n",
    "michaelis_menten_with_kcat(3.51, 0.53, 1 )"
   ]
  },
  {
   "cell_type": "code",
   "execution_count": 4,
   "metadata": {
    "ExecuteTime": {
     "end_time": "2017-07-14T13:49:56.513228Z",
     "start_time": "2017-07-14T13:49:56.508166Z"
    },
    "collapsed": true,
    "deletable": true,
    "editable": true
   },
   "outputs": [],
   "source": [
    "%matplotlib inline\n",
    "import numpy\n",
    "from ecell4 import *\n",
    "util.decorator.ENABLE_RATELAW = True"
   ]
  },
  {
   "cell_type": "code",
   "execution_count": null,
   "metadata": {
    "collapsed": true,
    "deletable": true,
    "editable": true
   },
   "outputs": [],
   "source": [
    "with reaction_rules():\n",
    "    ~M > M | 0.76 / (1 + Pn ** 3)\n",
    "    M > ~M | 0.65 * M / (0.5 + M)\n",
    "    ~P0 > P0 | 0.38 * M\n",
    "    P0 == P1 | (3.2 * P0 / (2 + P0), 1.58 * P1 / (2 + P1))\n",
    "    P1 == P2 | (5 * P1 / (2 + P1), 2.5 * P2 / (2 + P2))\n",
    "    P2 == Pn | (1.9, 1.3)\n",
    "    P2 > ~P2 | 0.95 * P2 / (0.2 + P2)\n",
    "    "
   ]
  },
  {
   "cell_type": "code",
   "execution_count": null,
   "metadata": {
    "collapsed": true,
    "deletable": true,
    "editable": true
   },
   "outputs": [],
   "source": [
    "y0 = {\"M\": 3.61328202E-01, \"Pn\": 6.21367E-01, \"P0\": 3.01106835E-01, \"P1\": 3.01106835E-01, \"P2\": 3.61328202E-01}\n",
    "obs = run_simulation(numpy.linspace(0, 100, 400), y0, return_type='observer')"
   ]
  },
  {
   "cell_type": "code",
   "execution_count": null,
   "metadata": {
    "collapsed": true,
    "deletable": true,
    "editable": true
   },
   "outputs": [],
   "source": []
  },
  {
   "cell_type": "code",
   "execution_count": null,
   "metadata": {
    "collapsed": true,
    "deletable": true,
    "editable": true
   },
   "outputs": [],
   "source": []
  },
  {
   "cell_type": "code",
<<<<<<< HEAD:SmadModel/SmadModelStuff.ipynb
   "execution_count": 2,
   "metadata": {
    "ExecuteTime": {
     "end_time": "2017-07-14T22:20:42.429000Z",
     "start_time": "2017-07-14T22:19:58.088000Z"
=======
   "execution_count": 1,
   "metadata": {
    "ExecuteTime": {
     "end_time": "2017-07-14T22:18:14.407000Z",
     "start_time": "2017-07-14T22:18:00.461000Z"
>>>>>>> refs/remotes/origin/master:SmadModel/Untitled.ipynb
    },
    "collapsed": false,
    "deletable": true,
    "editable": true
   },
   "outputs": [
    {
<<<<<<< HEAD:SmadModel/SmadModelStuff.ipynb
     "ename": "SyntaxError",
     "evalue": "invalid syntax (pycopi.py, line 924)",
     "output_type": "error",
     "traceback": [
      "\u001b[1;36m  File \u001b[1;32m\"C:\\Users\\Ciaran\\Documents\\PyCoTools\\PyCoTools\\pycopi.py\"\u001b[1;36m, line \u001b[1;32m924\u001b[0m\n\u001b[1;33m    <<<<<<< HEAD\u001b[0m\n\u001b[1;37m     ^\u001b[0m\n\u001b[1;31mSyntaxError\u001b[0m\u001b[1;31m:\u001b[0m invalid syntax\n"
=======
     "name": "stdout",
     "output_type": "stream",
     "text": [
      "Collecting yapf\n",
      "  Downloading yapf-0.16.3-py2.py3-none-any.whl (150kB)\n",
      "Installing collected packages: yapf\n",
      "Successfully installed yapf-0.16.3\n"
>>>>>>> refs/remotes/origin/master:SmadModel/Untitled.ipynb
     ]
    }
   ],
   "source": [
    "import site\n",
    "site.addsitedir(r'C:/Users/Ciaran/Documents/PyCoTools/')\n",
<<<<<<< HEAD:SmadModel/SmadModelStuff.ipynb
    "import PyCoTools\n",
    "PyCoTools.pycopi"
=======
    "import PyCoTools"
>>>>>>> refs/remotes/origin/master:SmadModel/Untitled.ipynb
   ]
  },
  {
   "cell_type": "code",
   "execution_count": null,
   "metadata": {
    "collapsed": true,
    "deletable": true,
    "editable": true
   },
   "outputs": [],
   "source": []
  },
  {
   "cell_type": "code",
   "execution_count": null,
   "metadata": {
    "collapsed": true,
    "deletable": true,
    "editable": true
   },
   "outputs": [],
   "source": []
  },
  {
   "cell_type": "code",
   "execution_count": null,
   "metadata": {
    "collapsed": true,
    "deletable": true,
    "editable": true
   },
   "outputs": [],
   "source": []
  },
  {
   "cell_type": "code",
   "execution_count": null,
   "metadata": {
    "collapsed": true,
    "deletable": true,
    "editable": true
   },
   "outputs": [],
   "source": []
  },
  {
   "cell_type": "code",
   "execution_count": null,
   "metadata": {
    "collapsed": true,
    "deletable": true,
    "editable": true
   },
   "outputs": [],
   "source": []
  },
  {
   "cell_type": "code",
   "execution_count": null,
   "metadata": {
    "collapsed": true,
    "deletable": true,
    "editable": true
   },
   "outputs": [],
   "source": []
  },
  {
   "cell_type": "code",
   "execution_count": null,
   "metadata": {
    "collapsed": true,
    "deletable": true,
    "editable": true
   },
   "outputs": [],
   "source": []
  },
  {
   "cell_type": "code",
   "execution_count": null,
   "metadata": {
    "collapsed": true,
    "deletable": true,
    "editable": true
   },
   "outputs": [],
   "source": []
  },
  {
   "cell_type": "code",
   "execution_count": null,
   "metadata": {
    "collapsed": true,
    "deletable": true,
    "editable": true
   },
   "outputs": [],
   "source": []
  },
  {
   "cell_type": "code",
   "execution_count": null,
   "metadata": {
    "collapsed": true,
    "deletable": true,
    "editable": true
   },
   "outputs": [],
   "source": []
  },
  {
   "cell_type": "code",
   "execution_count": null,
   "metadata": {
    "collapsed": true,
    "deletable": true,
    "editable": true
   },
   "outputs": [],
   "source": []
  }
 ],
 "metadata": {
  "hide_input": false,
  "kernelspec": {
   "display_name": "Python 2",
   "language": "python",
   "name": "python2"
  },
  "toc": {
   "colors": {
    "hover_highlight": "#DAA520",
    "navigate_num": "#000000",
    "navigate_text": "#333333",
    "running_highlight": "#FF0000",
    "selected_highlight": "#FFD700",
    "sidebar_border": "#EEEEEE",
    "wrapper_background": "#FFFFFF"
   },
   "moveMenuLeft": true,
   "nav_menu": {
    "height": "30px",
    "width": "252px"
   },
   "navigate_menu": true,
   "number_sections": true,
   "sideBar": true,
   "threshold": 4,
   "toc_cell": false,
   "toc_section_display": "block",
   "toc_window_display": false,
   "widenNotebook": false
  },
  "varInspector": {
   "cols": {
    "lenName": 16,
    "lenType": 16,
    "lenVar": 40
   },
   "kernels_config": {
    "python": {
     "delete_cmd_postfix": "",
     "delete_cmd_prefix": "del ",
     "library": "var_list.py",
     "varRefreshCmd": "print(var_dic_list())"
    },
    "r": {
     "delete_cmd_postfix": ") ",
     "delete_cmd_prefix": "rm(",
     "library": "var_list.r",
     "varRefreshCmd": "cat(var_dic_list()) "
    }
   },
   "types_to_exclude": [
    "module",
    "function",
    "builtin_function_or_method",
    "instance",
    "_Feature"
   ],
   "window_display": false
  }
 },
 "nbformat": 4,
 "nbformat_minor": 2
}
