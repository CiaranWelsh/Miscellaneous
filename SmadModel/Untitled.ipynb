{
 "cells": [
  {
   "cell_type": "markdown",
   "metadata": {
    "ExecuteTime": {
     "end_time": "2017-07-13T21:35:14.545000Z",
     "start_time": "2017-07-13T21:35:12.578Z"
    },
    "deletable": true,
    "editable": true
   },
   "source": [
    "# Modelling Smads with PyCoTools"
   ]
  },
  {
   "cell_type": "code",
   "execution_count": 29,
   "metadata": {
    "ExecuteTime": {
     "end_time": "2017-07-13T23:17:32.307000Z",
     "start_time": "2017-07-13T23:17:18.148000Z"
    },
    "collapsed": false,
    "deletable": true,
    "editable": true
   },
   "outputs": [
    {
     "data": {
      "text/plain": [
       "<PyCoTools.pycopi.TimeCourse at 0xcf91438>"
      ]
     },
     "execution_count": 29,
     "metadata": {},
     "output_type": "execute_result"
    }
   ],
   "source": [
    "import site\n",
    "site.addsitedir(r'C:\\Users\\Ciaran\\Documents\\PyCoTools')\n",
    "import seaborn\n",
    "import os\n",
    "import PyCoTools\n",
    "import matplotlib\n",
    "%matplotlib inline\n",
    "dire = r'C:\\Users\\Ciaran\\Documents\\Miscellaneous\\SmadModel'\n",
    "\n",
    "model = os.path.join(dire, 'M1.cps')\n",
    "\n",
    "GMQ = PyCoTools.pycopi.GetModelQuantities(model)\n",
    "\n",
    "PyCoTools.pycopi.TimeCourse(model, end=1000, step_size=1, intervals=1000, plot='true')\n"
   ]
  },
  {
   "cell_type": "code",
   "execution_count": null,
   "metadata": {
    "collapsed": true,
    "deletable": true,
    "editable": true
   },
   "outputs": [],
   "source": []
  }
 ],
 "metadata": {
  "kernelspec": {
   "display_name": "Python 2",
   "language": "python",
   "name": "python2"
  },
  "language_info": {
   "codemirror_mode": {
    "name": "ipython",
    "version": 2
   },
   "file_extension": ".py",
   "mimetype": "text/x-python",
   "name": "python",
   "nbconvert_exporter": "python",
   "pygments_lexer": "ipython2",
   "version": "2.7.11"
  },
  "toc": {
   "colors": {
    "hover_highlight": "#DAA520",
    "navigate_num": "#000000",
    "navigate_text": "#333333",
    "running_highlight": "#FF0000",
    "selected_highlight": "#FFD700",
    "sidebar_border": "#EEEEEE",
    "wrapper_background": "#FFFFFF"
   },
   "moveMenuLeft": true,
   "nav_menu": {
    "height": "30px",
    "width": "252px"
   },
   "navigate_menu": true,
   "number_sections": true,
   "sideBar": true,
   "threshold": 4,
   "toc_cell": false,
   "toc_section_display": "block",
   "toc_window_display": false,
   "widenNotebook": false
  }
 },
 "nbformat": 4,
 "nbformat_minor": 2
}
