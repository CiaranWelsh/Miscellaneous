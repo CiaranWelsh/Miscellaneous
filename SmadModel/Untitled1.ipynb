{
 "cells": [
  {
   "cell_type": "code",
   "execution_count": 1,
   "metadata": {
    "ExecuteTime": {
     "end_time": "2017-07-13T22:31:45.315000Z",
     "start_time": "2017-07-13T22:31:44.434000Z"
    },
    "collapsed": false,
    "editable": true
   },
   "outputs": [
    {
     "ename": "SyntaxError",
     "evalue": "invalid syntax (pycopi.py, line 924)",
     "output_type": "error",
     "traceback": [
      "\u001b[1;36m  File \u001b[1;32m\"C:\\Users\\Ciaran\\Documents\\PyCoTools\\PyCoTools\\pycopi.py\"\u001b[1;36m, line \u001b[1;32m924\u001b[0m\n\u001b[1;33m    <<<<<<< HEAD\u001b[0m\n\u001b[1;37m     ^\u001b[0m\n\u001b[1;31mSyntaxError\u001b[0m\u001b[1;31m:\u001b[0m invalid syntax\n"
     ]
    }
   ],
   "source": [
    "import site\n",
    "site.addsitedir(r'C:\\Users\\Ciaran\\Documents\\PyCoTools')\n",
    "import seaborn\n",
    "import os\n",
    "import PyCoTools\n",
    "\n",
    "dire = r'C:\\Users\\Ciaran\\Documents\\Miscellaneous\\SmadModel'\n",
    "\n",
    "model = os.path.join(dire, 'M1.cps')\n",
    "\n",
    "GMQ = PyCoTools.pycopi.GetModelQuantities(model)\n",
    "\n",
    "param_dct = GMQ.get_local_parameters()\n",
    "\n",
    "param_dct = {i:0 for i in param_dct}\n",
    "print param_dct\n",
    "#PyCoTools.pycopi.InsertParameters(model, parameter_dict = param_dct)"
   ]
  }
 ],
 "metadata": {
  "kernelspec": {
   "display_name": "Python 2",
   "language": "python",
   "name": "python2"
  },
  "toc": {
   "colors": {
    "hover_highlight": "#DAA520",
    "navigate_num": "#000000",
    "navigate_text": "#333333",
    "running_highlight": "#FF0000",
    "selected_highlight": "#FFD700",
    "sidebar_border": "#EEEEEE",
    "wrapper_background": "#FFFFFF"
   },
   "moveMenuLeft": true,
   "nav_menu": {
    "height": "12px",
    "width": "252px"
   },
   "navigate_menu": true,
   "number_sections": true,
   "sideBar": true,
   "threshold": 4,
   "toc_cell": false,
   "toc_section_display": "block",
   "toc_window_display": false,
   "widenNotebook": false
  }
 },
 "nbformat": 4,
 "nbformat_minor": 2
}
